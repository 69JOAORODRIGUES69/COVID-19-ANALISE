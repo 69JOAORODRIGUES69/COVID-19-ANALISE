{
  "cells": [
    {
      "cell_type": "markdown",
      "metadata": {
        "id": "KJqp9AANOCtf"
      },
      "source": [
        "<img src=\"https://raw.githubusercontent.com/andre-marcos-perez/ebac-course-utils/main/media/logo/newebac_logo_black_half.png\" alt=\"ebac-logo\">\n",
        "\n",
        "---\n",
        "\n",
        "# **Módulo** | Análise de Dados: COVID-19 Dashboard\n",
        "Caderno de **Exercícios**<br>\n",
        "Professor [André Perez](https://www.linkedin.com/in/andremarcosperez/)\n",
        "\n",
        "---"
      ]
    },
    {
      "cell_type": "markdown",
      "metadata": {
        "id": "d9jDtUbDOE1-"
      },
      "source": [
        "# **Tópicos**\n",
        "\n",
        "<ol type=\"1\">\n",
        "  <li>Introdução;</li>\n",
        "  <li>Análise Exploratória de Dados;</li>\n",
        "  <li>Visualização Interativa de Dados;</li>\n",
        "  <li>Storytelling.</li>\n",
        "</ol>\n"
      ]
    },
    {
      "cell_type": "markdown",
      "metadata": {
        "id": "SmoHgt-lwkpD"
      },
      "source": [
        "---"
      ]
    },
    {
      "cell_type": "markdown",
      "metadata": {
        "id": "GABI6OW8OfQ2"
      },
      "source": [
        "# **Exercícios**"
      ]
    },
    {
      "cell_type": "markdown",
      "metadata": {
        "id": "muD1vxozykSC"
      },
      "source": [
        "Este *notebook* deve servir como um guia para **você continuar** a construção da sua própria análise exploratória de dados interativa. Fique a vontate para copiar os códigos da aula mas busque explorar os dados ao máximo. Por fim, publique seu *notebook* no [Kaggle](https://www.kaggle.com/) e seu *dashboard* [Google Data Studio](https://datastudio.google.com/)."
      ]
    },
    {
      "cell_type": "markdown",
      "metadata": {
        "id": "zMN1Q3jdwoJm"
      },
      "source": [
        "---"
      ]
    },
    {
      "cell_type": "markdown",
      "metadata": {
        "id": "QRcqbpLpFK5o"
      },
      "source": [
        "# **COVID Dashboard**"
      ]
    },
    {
      "cell_type": "markdown",
      "metadata": {
        "id": "6-CvdKwqFPiW"
      },
      "source": [
        "## 1\\. Contexto"
      ]
    },
    {
      "cell_type": "markdown",
      "metadata": {
        "id": "XRURE1uUFXGw"
      },
      "source": [
        "Escreva uma breve descrição do problema."
      ]
    },
    {
      "cell_type": "markdown",
      "metadata": {
        "id": "QxukLHaqFnkU"
      },
      "source": [
        "## 2\\. Pacotes e bibliotecas"
      ]
    },
    {
      "cell_type": "code",
      "execution_count": null,
      "metadata": {
        "id": "VXUEW0VrF7XW"
      },
      "outputs": [],
      "source": [
        "# importe todas as suas bibliotecas aqui, siga os padrões do PEP8:\n",
        "#\n",
        "# - 1º pacotes nativos do python: json, os, etc.;\n",
        "# - 2º pacotes de terceiros: pandas, seabornm etc.;\n",
        "# - 3º pacotes que você desenvolveu.\n",
        "#\n",
        "\n",
        "# Pacotes nativos do python\n",
        "import os\n",
        "\n",
        "# Pacotes de terceiros\n",
        "import pandas as pd\n",
        "import numpy as np\n",
        "import matplotlib.pyplot as plt\n",
        "import seaborn as sns\n",
        "\n",
        "# Pacotes para visualizações interativas\n",
        "import plotly.express as px\n",
        "\n",
        "# Configuração do Matplotlib para gráficos inline\n",
        "%matplotlib inline\n"
      ]
    },
    {
      "cell_type": "markdown",
      "metadata": {
        "id": "irQxHW1zGkdZ"
      },
      "source": [
        "## 3\\. Extração"
      ]
    },
    {
      "cell_type": "code",
      "execution_count": null,
      "metadata": {
        "id": "lxLj8e0GHAnr",
        "colab": {
          "base_uri": "https://localhost:8080/"
        },
        "outputId": "63089a06-e659-4cb7-8bd1-2b7cf11ee43f"
      },
      "outputs": [
        {
          "output_type": "stream",
          "name": "stdout",
          "text": [
            "Confirmed Cases Data:\n",
            "  Province/State Country/Region       Lat       Long  1/22/20  1/23/20  \\\n",
            "0            NaN    Afghanistan  33.93911  67.709953        0        0   \n",
            "1            NaN        Albania  41.15330  20.168300        0        0   \n",
            "2            NaN        Algeria  28.03390   1.659600        0        0   \n",
            "3            NaN        Andorra  42.50630   1.521800        0        0   \n",
            "4            NaN         Angola -11.20270  17.873900        0        0   \n",
            "\n",
            "   1/24/20  1/25/20  1/26/20  1/27/20  ...  2/28/23  3/1/23  3/2/23  3/3/23  \\\n",
            "0        0        0        0        0  ...   209322  209340  209358  209362   \n",
            "1        0        0        0        0  ...   334391  334408  334408  334427   \n",
            "2        0        0        0        0  ...   271441  271448  271463  271469   \n",
            "3        0        0        0        0  ...    47866   47875   47875   47875   \n",
            "4        0        0        0        0  ...   105255  105277  105277  105277   \n",
            "\n",
            "   3/4/23  3/5/23  3/6/23  3/7/23  3/8/23  3/9/23  \n",
            "0  209369  209390  209406  209436  209451  209451  \n",
            "1  334427  334427  334427  334427  334443  334457  \n",
            "2  271469  271477  271477  271490  271494  271496  \n",
            "3   47875   47875   47875   47875   47890   47890  \n",
            "4  105277  105277  105277  105277  105288  105288  \n",
            "\n",
            "[5 rows x 1147 columns]\n",
            "\n",
            "Deaths Data:\n",
            "  Province/State Country/Region       Lat       Long  1/22/20  1/23/20  \\\n",
            "0            NaN    Afghanistan  33.93911  67.709953        0        0   \n",
            "1            NaN        Albania  41.15330  20.168300        0        0   \n",
            "2            NaN        Algeria  28.03390   1.659600        0        0   \n",
            "3            NaN        Andorra  42.50630   1.521800        0        0   \n",
            "4            NaN         Angola -11.20270  17.873900        0        0   \n",
            "\n",
            "   1/24/20  1/25/20  1/26/20  1/27/20  ...  2/28/23  3/1/23  3/2/23  3/3/23  \\\n",
            "0        0        0        0        0  ...     7896    7896    7896    7896   \n",
            "1        0        0        0        0  ...     3598    3598    3598    3598   \n",
            "2        0        0        0        0  ...     6881    6881    6881    6881   \n",
            "3        0        0        0        0  ...      165     165     165     165   \n",
            "4        0        0        0        0  ...     1933    1933    1933    1933   \n",
            "\n",
            "   3/4/23  3/5/23  3/6/23  3/7/23  3/8/23  3/9/23  \n",
            "0    7896    7896    7896    7896    7896    7896  \n",
            "1    3598    3598    3598    3598    3598    3598  \n",
            "2    6881    6881    6881    6881    6881    6881  \n",
            "3     165     165     165     165     165     165  \n",
            "4    1933    1933    1933    1933    1933    1933  \n",
            "\n",
            "[5 rows x 1147 columns]\n",
            "\n",
            "Recovered Cases Data:\n",
            "  Province/State Country/Region       Lat       Long  1/22/20  1/23/20  \\\n",
            "0            NaN    Afghanistan  33.93911  67.709953        0        0   \n",
            "1            NaN        Albania  41.15330  20.168300        0        0   \n",
            "2            NaN        Algeria  28.03390   1.659600        0        0   \n",
            "3            NaN        Andorra  42.50630   1.521800        0        0   \n",
            "4            NaN         Angola -11.20270  17.873900        0        0   \n",
            "\n",
            "   1/24/20  1/25/20  1/26/20  1/27/20  ...  2/28/23  3/1/23  3/2/23  3/3/23  \\\n",
            "0        0        0        0        0  ...        0       0       0       0   \n",
            "1        0        0        0        0  ...        0       0       0       0   \n",
            "2        0        0        0        0  ...        0       0       0       0   \n",
            "3        0        0        0        0  ...        0       0       0       0   \n",
            "4        0        0        0        0  ...        0       0       0       0   \n",
            "\n",
            "   3/4/23  3/5/23  3/6/23  3/7/23  3/8/23  3/9/23  \n",
            "0       0       0       0       0       0       0  \n",
            "1       0       0       0       0       0       0  \n",
            "2       0       0       0       0       0       0  \n",
            "3       0       0       0       0       0       0  \n",
            "4       0       0       0       0       0       0  \n",
            "\n",
            "[5 rows x 1147 columns]\n"
          ]
        }
      ],
      "source": [
        "# faça o código de extração dos dados:\n",
        "#\n",
        "# - coleta de dados;\n",
        "# - wrangling da estrutura;\n",
        "# - exploração do schema;\n",
        "# - etc.\n",
        "\n",
        "# URLs dos dados da COVID-19 no repositório do CSSE\n",
        "url_confirmed = \"https://raw.githubusercontent.com/CSSEGISandData/COVID-19/master/csse_covid_19_data/csse_covid_19_time_series/time_series_covid19_confirmed_global.csv\"\n",
        "url_deaths = \"https://raw.githubusercontent.com/CSSEGISandData/COVID-19/master/csse_covid_19_data/csse_covid_19_time_series/time_series_covid19_deaths_global.csv\"\n",
        "url_recovered = \"https://raw.githubusercontent.com/CSSEGISandData/COVID-19/master/csse_covid_19_data/csse_covid_19_time_series/time_series_covid19_recovered_global.csv\"\n",
        "\n",
        "# Leitura dos dados\n",
        "confirmed = pd.read_csv(url_confirmed)\n",
        "deaths = pd.read_csv(url_deaths)\n",
        "recovered = pd.read_csv(url_recovered)\n",
        "\n",
        "# Exibindo as primeiras linhas de cada dataset para entender sua estrutura\n",
        "print(\"Confirmed Cases Data:\")\n",
        "print(confirmed.head())\n",
        "print(\"\\nDeaths Data:\")\n",
        "print(deaths.head())\n",
        "print(\"\\nRecovered Cases Data:\")\n",
        "print(recovered.head())"
      ]
    },
    {
      "cell_type": "markdown",
      "metadata": {
        "id": "98hexQTyJS9I"
      },
      "source": [
        "## 4\\. Transformação"
      ]
    },
    {
      "cell_type": "code",
      "execution_count": null,
      "metadata": {
        "id": "DXU4Ee0QJS9Q",
        "colab": {
          "base_uri": "https://localhost:8080/"
        },
        "outputId": "23daaa20-4b37-4be0-d83a-74cb64bd02ca"
      },
      "outputs": [
        {
          "output_type": "stream",
          "name": "stdout",
          "text": [
            "Confirmed Cases Long Format:\n",
            "  Province/State Country/Region       Lat       Long     Date  Confirmed\n",
            "0            NaN    Afghanistan  33.93911  67.709953  1/22/20          0\n",
            "1            NaN        Albania  41.15330  20.168300  1/22/20          0\n",
            "2            NaN        Algeria  28.03390   1.659600  1/22/20          0\n",
            "3            NaN        Andorra  42.50630   1.521800  1/22/20          0\n",
            "4            NaN         Angola -11.20270  17.873900  1/22/20          0\n",
            "\n",
            "Deaths Long Format:\n",
            "  Province/State Country/Region       Lat       Long     Date  Deaths\n",
            "0            NaN    Afghanistan  33.93911  67.709953  1/22/20       0\n",
            "1            NaN        Albania  41.15330  20.168300  1/22/20       0\n",
            "2            NaN        Algeria  28.03390   1.659600  1/22/20       0\n",
            "3            NaN        Andorra  42.50630   1.521800  1/22/20       0\n",
            "4            NaN         Angola -11.20270  17.873900  1/22/20       0\n",
            "\n",
            "Recovered Cases Long Format:\n",
            "  Province/State Country/Region       Lat       Long     Date  Recovered\n",
            "0            NaN    Afghanistan  33.93911  67.709953  1/22/20          0\n",
            "1            NaN        Albania  41.15330  20.168300  1/22/20          0\n",
            "2            NaN        Algeria  28.03390   1.659600  1/22/20          0\n",
            "3            NaN        Andorra  42.50630   1.521800  1/22/20          0\n",
            "4            NaN         Angola -11.20270  17.873900  1/22/20          0\n"
          ]
        }
      ],
      "source": [
        "# faça o código de manipulação dos dados:\n",
        "#\n",
        "# - enriquecimento;\n",
        "# - controle de qualidade;\n",
        "# - etc.\n",
        "\n",
        "# Função para transformar a estrutura dos dados\n",
        "def melt_data(df, value_name):\n",
        "    df_melted = df.melt(id_vars=['Province/State', 'Country/Region', 'Lat', 'Long'],\n",
        "                        var_name='Date', value_name=value_name)\n",
        "    return df_melted\n",
        "\n",
        "# Aplicar a transformação para cada dataset\n",
        "confirmed_long = melt_data(confirmed, 'Confirmed')\n",
        "deaths_long = melt_data(deaths, 'Deaths')\n",
        "recovered_long = melt_data(recovered, 'Recovered')\n",
        "\n",
        "# Exibir as primeiras linhas dos datasets transformados\n",
        "print(\"Confirmed Cases Long Format:\")\n",
        "print(confirmed_long.head())\n",
        "print(\"\\nDeaths Long Format:\")\n",
        "print(deaths_long.head())\n",
        "print(\"\\nRecovered Cases Long Format:\")\n",
        "print(recovered_long.head())\n"
      ]
    },
    {
      "cell_type": "code",
      "source": [
        "# Converter a coluna de data para o tipo datetime\n",
        "confirmed_long['Date'] = pd.to_datetime(confirmed_long['Date'])\n",
        "deaths_long['Date'] = pd.to_datetime(deaths_long['Date'])\n",
        "recovered_long['Date'] = pd.to_datetime(recovered_long['Date'])\n",
        "\n",
        "# Exibir as primeiras linhas para verificar a transformação\n",
        "print(confirmed_long.head())\n"
      ],
      "metadata": {
        "colab": {
          "base_uri": "https://localhost:8080/"
        },
        "id": "vPXBE8Y2BA87",
        "outputId": "a6a56ca3-2a6e-4f57-b689-a526112ea2a4"
      },
      "execution_count": null,
      "outputs": [
        {
          "output_type": "stream",
          "name": "stderr",
          "text": [
            "<ipython-input-5-ce1f52e14602>:2: UserWarning: Could not infer format, so each element will be parsed individually, falling back to `dateutil`. To ensure parsing is consistent and as-expected, please specify a format.\n",
            "  confirmed_long['Date'] = pd.to_datetime(confirmed_long['Date'])\n",
            "<ipython-input-5-ce1f52e14602>:3: UserWarning: Could not infer format, so each element will be parsed individually, falling back to `dateutil`. To ensure parsing is consistent and as-expected, please specify a format.\n",
            "  deaths_long['Date'] = pd.to_datetime(deaths_long['Date'])\n",
            "<ipython-input-5-ce1f52e14602>:4: UserWarning: Could not infer format, so each element will be parsed individually, falling back to `dateutil`. To ensure parsing is consistent and as-expected, please specify a format.\n",
            "  recovered_long['Date'] = pd.to_datetime(recovered_long['Date'])\n"
          ]
        },
        {
          "output_type": "stream",
          "name": "stdout",
          "text": [
            "  Province/State Country/Region       Lat       Long       Date  Confirmed\n",
            "0            NaN    Afghanistan  33.93911  67.709953 2020-01-22          0\n",
            "1            NaN        Albania  41.15330  20.168300 2020-01-22          0\n",
            "2            NaN        Algeria  28.03390   1.659600 2020-01-22          0\n",
            "3            NaN        Andorra  42.50630   1.521800 2020-01-22          0\n",
            "4            NaN         Angola -11.20270  17.873900 2020-01-22          0\n"
          ]
        }
      ]
    },
    {
      "cell_type": "markdown",
      "metadata": {
        "id": "KSgjP--1JS9R"
      },
      "source": [
        "## 5\\. Carregamento"
      ]
    },
    {
      "cell_type": "code",
      "execution_count": null,
      "metadata": {
        "id": "Jlj3ACWCJS9R",
        "colab": {
          "base_uri": "https://localhost:8080/",
          "height": 55
        },
        "outputId": "f1a62077-2cb7-42cb-d254-a9a560fb6bfe"
      },
      "outputs": [
        {
          "output_type": "stream",
          "name": "stdout",
          "text": [
            "Arquivos salvos com sucesso!\n"
          ]
        },
        {
          "output_type": "display_data",
          "data": {
            "text/plain": [
              "<IPython.core.display.Javascript object>"
            ],
            "application/javascript": [
              "\n",
              "    async function download(id, filename, size) {\n",
              "      if (!google.colab.kernel.accessAllowed) {\n",
              "        return;\n",
              "      }\n",
              "      const div = document.createElement('div');\n",
              "      const label = document.createElement('label');\n",
              "      label.textContent = `Downloading \"${filename}\": `;\n",
              "      div.appendChild(label);\n",
              "      const progress = document.createElement('progress');\n",
              "      progress.max = size;\n",
              "      div.appendChild(progress);\n",
              "      document.body.appendChild(div);\n",
              "\n",
              "      const buffers = [];\n",
              "      let downloaded = 0;\n",
              "\n",
              "      const channel = await google.colab.kernel.comms.open(id);\n",
              "      // Send a message to notify the kernel that we're ready.\n",
              "      channel.send({})\n",
              "\n",
              "      for await (const message of channel.messages) {\n",
              "        // Send a message to notify the kernel that we're ready.\n",
              "        channel.send({})\n",
              "        if (message.buffers) {\n",
              "          for (const buffer of message.buffers) {\n",
              "            buffers.push(buffer);\n",
              "            downloaded += buffer.byteLength;\n",
              "            progress.value = downloaded;\n",
              "          }\n",
              "        }\n",
              "      }\n",
              "      const blob = new Blob(buffers, {type: 'application/binary'});\n",
              "      const a = document.createElement('a');\n",
              "      a.href = window.URL.createObjectURL(blob);\n",
              "      a.download = filename;\n",
              "      div.appendChild(a);\n",
              "      a.click();\n",
              "      div.remove();\n",
              "    }\n",
              "  "
            ]
          },
          "metadata": {}
        },
        {
          "output_type": "display_data",
          "data": {
            "text/plain": [
              "<IPython.core.display.Javascript object>"
            ],
            "application/javascript": [
              "download(\"download_30ebc291-10fc-42ff-a61a-e2b84300ef24\", \"confirmed_long.csv\", 15518020)"
            ]
          },
          "metadata": {}
        },
        {
          "output_type": "display_data",
          "data": {
            "text/plain": [
              "<IPython.core.display.Javascript object>"
            ],
            "application/javascript": [
              "\n",
              "    async function download(id, filename, size) {\n",
              "      if (!google.colab.kernel.accessAllowed) {\n",
              "        return;\n",
              "      }\n",
              "      const div = document.createElement('div');\n",
              "      const label = document.createElement('label');\n",
              "      label.textContent = `Downloading \"${filename}\": `;\n",
              "      div.appendChild(label);\n",
              "      const progress = document.createElement('progress');\n",
              "      progress.max = size;\n",
              "      div.appendChild(progress);\n",
              "      document.body.appendChild(div);\n",
              "\n",
              "      const buffers = [];\n",
              "      let downloaded = 0;\n",
              "\n",
              "      const channel = await google.colab.kernel.comms.open(id);\n",
              "      // Send a message to notify the kernel that we're ready.\n",
              "      channel.send({})\n",
              "\n",
              "      for await (const message of channel.messages) {\n",
              "        // Send a message to notify the kernel that we're ready.\n",
              "        channel.send({})\n",
              "        if (message.buffers) {\n",
              "          for (const buffer of message.buffers) {\n",
              "            buffers.push(buffer);\n",
              "            downloaded += buffer.byteLength;\n",
              "            progress.value = downloaded;\n",
              "          }\n",
              "        }\n",
              "      }\n",
              "      const blob = new Blob(buffers, {type: 'application/binary'});\n",
              "      const a = document.createElement('a');\n",
              "      a.href = window.URL.createObjectURL(blob);\n",
              "      a.download = filename;\n",
              "      div.appendChild(a);\n",
              "      a.click();\n",
              "      div.remove();\n",
              "    }\n",
              "  "
            ]
          },
          "metadata": {}
        },
        {
          "output_type": "display_data",
          "data": {
            "text/plain": [
              "<IPython.core.display.Javascript object>"
            ],
            "application/javascript": [
              "download(\"download_d6f1e754-466a-4732-9651-d6ae53c28c1e\", \"deaths_long.csv\", 14953371)"
            ]
          },
          "metadata": {}
        },
        {
          "output_type": "display_data",
          "data": {
            "text/plain": [
              "<IPython.core.display.Javascript object>"
            ],
            "application/javascript": [
              "\n",
              "    async function download(id, filename, size) {\n",
              "      if (!google.colab.kernel.accessAllowed) {\n",
              "        return;\n",
              "      }\n",
              "      const div = document.createElement('div');\n",
              "      const label = document.createElement('label');\n",
              "      label.textContent = `Downloading \"${filename}\": `;\n",
              "      div.appendChild(label);\n",
              "      const progress = document.createElement('progress');\n",
              "      progress.max = size;\n",
              "      div.appendChild(progress);\n",
              "      document.body.appendChild(div);\n",
              "\n",
              "      const buffers = [];\n",
              "      let downloaded = 0;\n",
              "\n",
              "      const channel = await google.colab.kernel.comms.open(id);\n",
              "      // Send a message to notify the kernel that we're ready.\n",
              "      channel.send({})\n",
              "\n",
              "      for await (const message of channel.messages) {\n",
              "        // Send a message to notify the kernel that we're ready.\n",
              "        channel.send({})\n",
              "        if (message.buffers) {\n",
              "          for (const buffer of message.buffers) {\n",
              "            buffers.push(buffer);\n",
              "            downloaded += buffer.byteLength;\n",
              "            progress.value = downloaded;\n",
              "          }\n",
              "        }\n",
              "      }\n",
              "      const blob = new Blob(buffers, {type: 'application/binary'});\n",
              "      const a = document.createElement('a');\n",
              "      a.href = window.URL.createObjectURL(blob);\n",
              "      a.download = filename;\n",
              "      div.appendChild(a);\n",
              "      a.click();\n",
              "      div.remove();\n",
              "    }\n",
              "  "
            ]
          },
          "metadata": {}
        },
        {
          "output_type": "display_data",
          "data": {
            "text/plain": [
              "<IPython.core.display.Javascript object>"
            ],
            "application/javascript": [
              "download(\"download_71a6dc25-c355-4287-aed0-681573ee45b5\", \"recovered_long.csv\", 13885135)"
            ]
          },
          "metadata": {}
        }
      ],
      "source": [
        "# faça o código para persistência dos dados:\n",
        "#\n",
        "# - salve-os no formato csv sem índice;\n",
        "# - etc.\n",
        "\n",
        "from google.colab import files\n",
        "\n",
        "# Salvar os dados transformados em CSV sem o índice\n",
        "confirmed_long.to_csv('confirmed_long.csv', index=False)\n",
        "deaths_long.to_csv('deaths_long.csv', index=False)\n",
        "recovered_long.to_csv('recovered_long.csv', index=False)\n",
        "\n",
        "# Confirmar que os arquivos foram salvos\n",
        "print(\"Arquivos salvos com sucesso!\")\n",
        "\n",
        "# Fazer o download dos arquivos CSV\n",
        "files.download('confirmed_long.csv')\n",
        "files.download('deaths_long.csv')\n",
        "files.download('recovered_long.csv')"
      ]
    },
    {
      "cell_type": "code",
      "source": [
        "# Função para unir os datasets\n",
        "def merge_data(confirmed_df, deaths_df, recovered_df):\n",
        "    # Unindo os datasets com base nas colunas comuns\n",
        "    merged_df = pd.merge(confirmed_df, deaths_df, on=['Province/State', 'Country/Region', 'Lat', 'Long', 'Date'], how='outer')\n",
        "    merged_df = pd.merge(merged_df, recovered_df, on=['Province/State', 'Country/Region', 'Lat', 'Long', 'Date'], how='outer')\n",
        "\n",
        "    # Retornando o dataset unido\n",
        "    return merged_df\n",
        "\n",
        "# Unindo os três arquivos\n",
        "covid_data = merge_data(confirmed_long, deaths_long, recovered_long)\n",
        "\n",
        "# Exibindo as primeiras linhas para conferir o resultado\n",
        "print(covid_data.head())\n",
        "\n",
        "# Salvando o dataset unido em um único arquivo CSV\n",
        "covid_data.to_csv('covid_data_combined.csv', index=False)\n",
        "\n",
        "# Confirmando que o arquivo foi salvo\n",
        "print(\"Arquivo 'covid_data_combined.csv' salvo com sucesso!\")\n",
        "\n",
        "# Fazendo o download do arquivo combinado\n",
        "files.download('covid_data_combined.csv')\n"
      ],
      "metadata": {
        "colab": {
          "base_uri": "https://localhost:8080/",
          "height": 291
        },
        "id": "mhy16nZIk3Wk",
        "outputId": "f8256914-fcd3-4dc8-b578-a80741782987"
      },
      "execution_count": null,
      "outputs": [
        {
          "output_type": "stream",
          "name": "stdout",
          "text": [
            "  Province/State Country/Region      Lat      Long       Date  Confirmed  \\\n",
            "0        Alberta         Canada  53.9333 -116.5765 2020-01-22        0.0   \n",
            "1        Alberta         Canada  53.9333 -116.5765 2020-01-23        0.0   \n",
            "2        Alberta         Canada  53.9333 -116.5765 2020-01-24        0.0   \n",
            "3        Alberta         Canada  53.9333 -116.5765 2020-01-25        0.0   \n",
            "4        Alberta         Canada  53.9333 -116.5765 2020-01-26        0.0   \n",
            "\n",
            "   Deaths  Recovered  \n",
            "0     0.0        NaN  \n",
            "1     0.0        NaN  \n",
            "2     0.0        NaN  \n",
            "3     0.0        NaN  \n",
            "4     0.0        NaN  \n",
            "Arquivo 'covid_data_combined.csv' salvo com sucesso!\n"
          ]
        },
        {
          "output_type": "display_data",
          "data": {
            "text/plain": [
              "<IPython.core.display.Javascript object>"
            ],
            "application/javascript": [
              "\n",
              "    async function download(id, filename, size) {\n",
              "      if (!google.colab.kernel.accessAllowed) {\n",
              "        return;\n",
              "      }\n",
              "      const div = document.createElement('div');\n",
              "      const label = document.createElement('label');\n",
              "      label.textContent = `Downloading \"${filename}\": `;\n",
              "      div.appendChild(label);\n",
              "      const progress = document.createElement('progress');\n",
              "      progress.max = size;\n",
              "      div.appendChild(progress);\n",
              "      document.body.appendChild(div);\n",
              "\n",
              "      const buffers = [];\n",
              "      let downloaded = 0;\n",
              "\n",
              "      const channel = await google.colab.kernel.comms.open(id);\n",
              "      // Send a message to notify the kernel that we're ready.\n",
              "      channel.send({})\n",
              "\n",
              "      for await (const message of channel.messages) {\n",
              "        // Send a message to notify the kernel that we're ready.\n",
              "        channel.send({})\n",
              "        if (message.buffers) {\n",
              "          for (const buffer of message.buffers) {\n",
              "            buffers.push(buffer);\n",
              "            downloaded += buffer.byteLength;\n",
              "            progress.value = downloaded;\n",
              "          }\n",
              "        }\n",
              "      }\n",
              "      const blob = new Blob(buffers, {type: 'application/binary'});\n",
              "      const a = document.createElement('a');\n",
              "      a.href = window.URL.createObjectURL(blob);\n",
              "      a.download = filename;\n",
              "      div.appendChild(a);\n",
              "      a.click();\n",
              "      div.remove();\n",
              "    }\n",
              "  "
            ]
          },
          "metadata": {}
        },
        {
          "output_type": "display_data",
          "data": {
            "text/plain": [
              "<IPython.core.display.Javascript object>"
            ],
            "application/javascript": [
              "download(\"download_944cac61-cb04-4013-bf20-659a17094306\", \"covid_data_combined.csv\", 20007109)"
            ]
          },
          "metadata": {}
        }
      ]
    },
    {
      "cell_type": "markdown",
      "source": [
        "Link para o Relatorio, no Looker Studio:"
      ],
      "metadata": {
        "id": "dyaeUwCXuQWI"
      }
    },
    {
      "cell_type": "markdown",
      "source": [
        "https://lookerstudio.google.com/reporting/9d2084a3-9687-409f-8ff3-67e0bdeebb6b"
      ],
      "metadata": {
        "id": "0KSNUSp6ubKb"
      }
    }
  ],
  "metadata": {
    "colab": {
      "provenance": []
    },
    "kernelspec": {
      "display_name": "Python 3",
      "name": "python3"
    }
  },
  "nbformat": 4,
  "nbformat_minor": 0
}